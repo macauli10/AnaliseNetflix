{
 "cells": [
  {
   "cell_type": "code",
   "execution_count": 1,
   "id": "e5e7b7ba",
   "metadata": {},
   "outputs": [
    {
     "name": "stderr",
     "output_type": "stream",
     "text": [
      "c:\\Users\\macau\\anaconda3\\lib\\site-packages\\pandas\\core\\computation\\expressions.py:21: UserWarning: Pandas requires version '2.8.4' or newer of 'numexpr' (version '2.8.3' currently installed).\n",
      "  from pandas.core.computation.check import NUMEXPR_INSTALLED\n"
     ]
    }
   ],
   "source": [
    "import pandas as pd"
   ]
  },
  {
   "cell_type": "code",
   "execution_count": 2,
   "id": "66cdb6c1",
   "metadata": {},
   "outputs": [
    {
     "data": {
      "text/html": [
       "<div>\n",
       "<style scoped>\n",
       "    .dataframe tbody tr th:only-of-type {\n",
       "        vertical-align: middle;\n",
       "    }\n",
       "\n",
       "    .dataframe tbody tr th {\n",
       "        vertical-align: top;\n",
       "    }\n",
       "\n",
       "    .dataframe thead th {\n",
       "        text-align: right;\n",
       "    }\n",
       "</style>\n",
       "<table border=\"1\" class=\"dataframe\">\n",
       "  <thead>\n",
       "    <tr style=\"text-align: right;\">\n",
       "      <th></th>\n",
       "      <th>Movie Title</th>\n",
       "      <th>Genre</th>\n",
       "      <th>Release Year</th>\n",
       "      <th>Average Rating</th>\n",
       "      <th>Number of Reviews</th>\n",
       "      <th>Review Highlights</th>\n",
       "      <th>Minute of Life-Changing Insight</th>\n",
       "      <th>How Discovered</th>\n",
       "      <th>Meaningful Advice Taken</th>\n",
       "      <th>Suggested to Friends/Family (Y/N %)</th>\n",
       "    </tr>\n",
       "  </thead>\n",
       "  <tbody>\n",
       "    <tr>\n",
       "      <th>0</th>\n",
       "      <td>The Pursuit of Happyness</td>\n",
       "      <td>Drama</td>\n",
       "      <td>2006</td>\n",
       "      <td>9.1</td>\n",
       "      <td>42000</td>\n",
       "      <td>\"Will Smith’s struggle hit hard. A must-watch!...</td>\n",
       "      <td>78:15 – Chris gets the job</td>\n",
       "      <td>Friend suggested</td>\n",
       "      <td>Persistence pays off.</td>\n",
       "      <td>92% Y</td>\n",
       "    </tr>\n",
       "    <tr>\n",
       "      <th>1</th>\n",
       "      <td>The Social Dilemma</td>\n",
       "      <td>Documentary</td>\n",
       "      <td>2020</td>\n",
       "      <td>8.2</td>\n",
       "      <td>35000</td>\n",
       "      <td>\"Eye-opening about tech addiction.\" / \"Some cl...</td>\n",
       "      <td>12:40 – Algorithm manipulation</td>\n",
       "      <td>Social media</td>\n",
       "      <td>Limit screen time for mental health.</td>\n",
       "      <td>88% Y</td>\n",
       "    </tr>\n",
       "    <tr>\n",
       "      <th>2</th>\n",
       "      <td>Parasite</td>\n",
       "      <td>Thriller/Drama</td>\n",
       "      <td>2019</td>\n",
       "      <td>9.3</td>\n",
       "      <td>50000</td>\n",
       "      <td>\"Masterpiece on class inequality.\" / \"Too dark...</td>\n",
       "      <td>1:12:00 – The flood scene</td>\n",
       "      <td>Netflix recommendation</td>\n",
       "      <td>Privilege isn’t always visible.</td>\n",
       "      <td>85% Y</td>\n",
       "    </tr>\n",
       "    <tr>\n",
       "      <th>3</th>\n",
       "      <td>Paddington 2</td>\n",
       "      <td>Comedy/Family</td>\n",
       "      <td>2017</td>\n",
       "      <td>8.8</td>\n",
       "      <td>28000</td>\n",
       "      <td>\"Pure joy! Teaches kindness effortlessly.\" / \"...</td>\n",
       "      <td>33:10 – Paddington’s jail speech</td>\n",
       "      <td>Friend suggested</td>\n",
       "      <td>Always choose kindness.</td>\n",
       "      <td>95% Y</td>\n",
       "    </tr>\n",
       "    <tr>\n",
       "      <th>4</th>\n",
       "      <td>Inception</td>\n",
       "      <td>Sci-Fi</td>\n",
       "      <td>2010</td>\n",
       "      <td>9.0</td>\n",
       "      <td>45000</td>\n",
       "      <td>\"Mind-bending brilliance.\" / \"Confusing plot.\"</td>\n",
       "      <td>1:05:22 – Cobb’s totem scene</td>\n",
       "      <td>Social media</td>\n",
       "      <td>Reality is subjective.</td>\n",
       "      <td>80% Y</td>\n",
       "    </tr>\n",
       "  </tbody>\n",
       "</table>\n",
       "</div>"
      ],
      "text/plain": [
       "                Movie Title           Genre  Release Year  Average Rating  \\\n",
       "0  The Pursuit of Happyness           Drama          2006             9.1   \n",
       "1        The Social Dilemma     Documentary          2020             8.2   \n",
       "2                  Parasite  Thriller/Drama          2019             9.3   \n",
       "3              Paddington 2   Comedy/Family          2017             8.8   \n",
       "4                 Inception          Sci-Fi          2010             9.0   \n",
       "\n",
       "   Number of Reviews                                  Review Highlights  \\\n",
       "0              42000  \"Will Smith’s struggle hit hard. A must-watch!...   \n",
       "1              35000  \"Eye-opening about tech addiction.\" / \"Some cl...   \n",
       "2              50000  \"Masterpiece on class inequality.\" / \"Too dark...   \n",
       "3              28000  \"Pure joy! Teaches kindness effortlessly.\" / \"...   \n",
       "4              45000     \"Mind-bending brilliance.\" / \"Confusing plot.\"   \n",
       "\n",
       "    Minute of Life-Changing Insight          How Discovered  \\\n",
       "0        78:15 – Chris gets the job        Friend suggested   \n",
       "1    12:40 – Algorithm manipulation            Social media   \n",
       "2         1:12:00 – The flood scene  Netflix recommendation   \n",
       "3  33:10 – Paddington’s jail speech        Friend suggested   \n",
       "4      1:05:22 – Cobb’s totem scene            Social media   \n",
       "\n",
       "                Meaningful Advice Taken Suggested to Friends/Family (Y/N %)  \n",
       "0                 Persistence pays off.                               92% Y  \n",
       "1  Limit screen time for mental health.                               88% Y  \n",
       "2       Privilege isn’t always visible.                               85% Y  \n",
       "3               Always choose kindness.                               95% Y  \n",
       "4                Reality is subjective.                               80% Y  "
      ]
     },
     "execution_count": 2,
     "metadata": {},
     "output_type": "execute_result"
    }
   ],
   "source": [
    "df = pd.read_csv('DadosBrutoNetflix.csv')\n",
    "df.head()"
   ]
  },
  {
   "cell_type": "code",
   "execution_count": 3,
   "id": "b56793e3",
   "metadata": {},
   "outputs": [
    {
     "data": {
      "text/plain": [
       "<bound method DataFrame.info of                         Movie Title           Genre  Release Year  \\\n",
       "0          The Pursuit of Happyness           Drama          2006   \n",
       "1                The Social Dilemma     Documentary          2020   \n",
       "2                          Parasite  Thriller/Drama          2019   \n",
       "3                      Paddington 2   Comedy/Family          2017   \n",
       "4                         Inception          Sci-Fi          2010   \n",
       "..                              ...             ...           ...   \n",
       "77  The Last Days of American Crime          Action          2020   \n",
       "78                            Klaus       Animation          2019   \n",
       "79         Ma Rainey’s Black Bottom           Drama          2020   \n",
       "80                   Piece of Women           Drama          2021   \n",
       "81             The Harder They Fall         Western          2021   \n",
       "\n",
       "    Average Rating  Number of Reviews  \\\n",
       "0              9.1              42000   \n",
       "1              8.2              35000   \n",
       "2              9.3              50000   \n",
       "3              8.8              28000   \n",
       "4              9.0              45000   \n",
       "..             ...                ...   \n",
       "77             4.0               9000   \n",
       "78             8.7              32000   \n",
       "79             7.9              25000   \n",
       "80             8.3              27000   \n",
       "81             7.6              18000   \n",
       "\n",
       "                                    Review Highlights  \\\n",
       "0   \"Will Smith’s struggle hit hard. A must-watch!...   \n",
       "1   \"Eye-opening about tech addiction.\" / \"Some cl...   \n",
       "2   \"Masterpiece on class inequality.\" / \"Too dark...   \n",
       "3   \"Pure joy! Teaches kindness effortlessly.\" / \"...   \n",
       "4      \"Mind-bending brilliance.\" / \"Confusing plot.\"   \n",
       "..                                                ...   \n",
       "77             \"Worst Netflix film?\" / \"Unwatchable.\"   \n",
       "78      \"Instant Christmas classic.\" / \"Predictable.\"   \n",
       "79    \"Chadwick Boseman’s last role.\" / \"Theatrical.\"   \n",
       "80       \"Devastating childbirth scene.\" / \"Graphic.\"   \n",
       "81  \"Stylish Black cowboy flick.\" / \"Style over su...   \n",
       "\n",
       "          Minute of Life-Changing Insight          How Discovered  \\\n",
       "0              78:15 – Chris gets the job        Friend suggested   \n",
       "1          12:40 – Algorithm manipulation            Social media   \n",
       "2               1:12:00 – The flood scene  Netflix recommendation   \n",
       "3        33:10 – Paddington’s jail speech        Friend suggested   \n",
       "4            1:05:22 – Cobb’s totem scene            Social media   \n",
       "..                                    ...                     ...   \n",
       "77                  1:30:00 – Final heist        Netflix original   \n",
       "78        1:05:00 – Gift delivery montage        Netflix original   \n",
       "79  1:20:00 – \"They Don’t Care\" monologue              Oscar buzz   \n",
       "80             1:10:00 – Courtroom speech           Film festival   \n",
       "81               1:20:00 – Final shootout  Netflix recommendation   \n",
       "\n",
       "                 Meaningful Advice Taken Suggested to Friends/Family (Y/N %)  \n",
       "0                  Persistence pays off.                               92% Y  \n",
       "1   Limit screen time for mental health.                               88% Y  \n",
       "2        Privilege isn’t always visible.                               85% Y  \n",
       "3                Always choose kindness.                               95% Y  \n",
       "4                 Reality is subjective.                               80% Y  \n",
       "..                                   ...                                 ...  \n",
       "77        Crime doesn’t pay (literally).                               20% Y  \n",
       "78             Kindness sparks miracles.                               94% Y  \n",
       "79                Art demands sacrifice.                               85% Y  \n",
       "80             Grief changes everything.                               76% Y  \n",
       "81                    Revenge is a loop.                               73% Y  \n",
       "\n",
       "[82 rows x 10 columns]>"
      ]
     },
     "execution_count": 3,
     "metadata": {},
     "output_type": "execute_result"
    }
   ],
   "source": [
    "df.info"
   ]
  },
  {
   "cell_type": "code",
   "execution_count": 5,
   "id": "902562e2",
   "metadata": {},
   "outputs": [
    {
     "data": {
      "text/plain": [
       "Movie Title                            0\n",
       "Genre                                  0\n",
       "Release Year                           0\n",
       "Average Rating                         0\n",
       "Number of Reviews                      0\n",
       "Review Highlights                      0\n",
       "Minute of Life-Changing Insight        0\n",
       "How Discovered                         0\n",
       "Meaningful Advice Taken                0\n",
       "Suggested to Friends/Family (Y/N %)    0\n",
       "dtype: int64"
      ]
     },
     "execution_count": 5,
     "metadata": {},
     "output_type": "execute_result"
    }
   ],
   "source": [
    "df.isnull().sum()"
   ]
  },
  {
   "cell_type": "code",
   "execution_count": 6,
   "id": "1941cd62",
   "metadata": {},
   "outputs": [
    {
     "data": {
      "text/plain": [
       "(82, 10)"
      ]
     },
     "execution_count": 6,
     "metadata": {},
     "output_type": "execute_result"
    }
   ],
   "source": [
    "df.shape"
   ]
  },
  {
   "cell_type": "code",
   "execution_count": 8,
   "id": "12e3bd1e",
   "metadata": {},
   "outputs": [
    {
     "data": {
      "text/plain": [
       "0"
      ]
     },
     "execution_count": 8,
     "metadata": {},
     "output_type": "execute_result"
    }
   ],
   "source": [
    "df.duplicated().sum()"
   ]
  },
  {
   "cell_type": "code",
   "execution_count": 9,
   "id": "400e6aaa",
   "metadata": {},
   "outputs": [
    {
     "data": {
      "text/plain": [
       "Index(['Movie Title', 'Genre', 'Release Year', 'Average Rating',\n",
       "       'Number of Reviews', 'Review Highlights',\n",
       "       'Minute of Life-Changing Insight', 'How Discovered',\n",
       "       'Meaningful Advice Taken', 'Suggested to Friends/Family (Y/N %)'],\n",
       "      dtype='object')"
      ]
     },
     "execution_count": 9,
     "metadata": {},
     "output_type": "execute_result"
    }
   ],
   "source": [
    "df.columns"
   ]
  },
  {
   "cell_type": "code",
   "execution_count": 10,
   "id": "9629dffb",
   "metadata": {},
   "outputs": [],
   "source": [
    "traduzindo = {\n",
    "    'Movie Title': 'titulo_filme',\n",
    "    'Genre': 'genero',\n",
    "    'Release Year': 'ano_lancamento',\n",
    "    'Average Rating': 'avaliacao_media',\n",
    "    'Number of Reviews': 'numero_avaliacoes',\n",
    "    'Review Highlights': 'destaques_avaliacoes',\n",
    "    'Minute of Life-Changing Insight': 'minuto_insight_transformador',\n",
    "    'How Discovered': 'como_descobriu',\n",
    "    'Meaningful Advice Taken': 'conselho_valioso_aplicado',\n",
    "    'Suggested to Friends/Family (Y/N %)': 'sugerido_amigos_familia'\n",
    "}"
   ]
  },
  {
   "cell_type": "code",
   "execution_count": 11,
   "id": "63c02b7f",
   "metadata": {},
   "outputs": [],
   "source": [
    "df = df.rename(columns=traduzindo)"
   ]
  },
  {
   "cell_type": "code",
   "execution_count": 12,
   "id": "212843f1",
   "metadata": {},
   "outputs": [
    {
     "data": {
      "text/html": [
       "<div>\n",
       "<style scoped>\n",
       "    .dataframe tbody tr th:only-of-type {\n",
       "        vertical-align: middle;\n",
       "    }\n",
       "\n",
       "    .dataframe tbody tr th {\n",
       "        vertical-align: top;\n",
       "    }\n",
       "\n",
       "    .dataframe thead th {\n",
       "        text-align: right;\n",
       "    }\n",
       "</style>\n",
       "<table border=\"1\" class=\"dataframe\">\n",
       "  <thead>\n",
       "    <tr style=\"text-align: right;\">\n",
       "      <th></th>\n",
       "      <th>titulo_filme</th>\n",
       "      <th>genero</th>\n",
       "      <th>ano_lancamento</th>\n",
       "      <th>avaliacao_media</th>\n",
       "      <th>numero_avaliacoes</th>\n",
       "      <th>destaques_avaliacoes</th>\n",
       "      <th>minuto_insight_transformador</th>\n",
       "      <th>como_descobriu</th>\n",
       "      <th>conselho_valioso_aplicado</th>\n",
       "      <th>sugerido_amigos_familia</th>\n",
       "    </tr>\n",
       "  </thead>\n",
       "  <tbody>\n",
       "    <tr>\n",
       "      <th>0</th>\n",
       "      <td>The Pursuit of Happyness</td>\n",
       "      <td>Drama</td>\n",
       "      <td>2006</td>\n",
       "      <td>9.1</td>\n",
       "      <td>42000</td>\n",
       "      <td>\"Will Smith’s struggle hit hard. A must-watch!...</td>\n",
       "      <td>78:15 – Chris gets the job</td>\n",
       "      <td>Friend suggested</td>\n",
       "      <td>Persistence pays off.</td>\n",
       "      <td>92% Y</td>\n",
       "    </tr>\n",
       "    <tr>\n",
       "      <th>1</th>\n",
       "      <td>The Social Dilemma</td>\n",
       "      <td>Documentary</td>\n",
       "      <td>2020</td>\n",
       "      <td>8.2</td>\n",
       "      <td>35000</td>\n",
       "      <td>\"Eye-opening about tech addiction.\" / \"Some cl...</td>\n",
       "      <td>12:40 – Algorithm manipulation</td>\n",
       "      <td>Social media</td>\n",
       "      <td>Limit screen time for mental health.</td>\n",
       "      <td>88% Y</td>\n",
       "    </tr>\n",
       "    <tr>\n",
       "      <th>2</th>\n",
       "      <td>Parasite</td>\n",
       "      <td>Thriller/Drama</td>\n",
       "      <td>2019</td>\n",
       "      <td>9.3</td>\n",
       "      <td>50000</td>\n",
       "      <td>\"Masterpiece on class inequality.\" / \"Too dark...</td>\n",
       "      <td>1:12:00 – The flood scene</td>\n",
       "      <td>Netflix recommendation</td>\n",
       "      <td>Privilege isn’t always visible.</td>\n",
       "      <td>85% Y</td>\n",
       "    </tr>\n",
       "    <tr>\n",
       "      <th>3</th>\n",
       "      <td>Paddington 2</td>\n",
       "      <td>Comedy/Family</td>\n",
       "      <td>2017</td>\n",
       "      <td>8.8</td>\n",
       "      <td>28000</td>\n",
       "      <td>\"Pure joy! Teaches kindness effortlessly.\" / \"...</td>\n",
       "      <td>33:10 – Paddington’s jail speech</td>\n",
       "      <td>Friend suggested</td>\n",
       "      <td>Always choose kindness.</td>\n",
       "      <td>95% Y</td>\n",
       "    </tr>\n",
       "    <tr>\n",
       "      <th>4</th>\n",
       "      <td>Inception</td>\n",
       "      <td>Sci-Fi</td>\n",
       "      <td>2010</td>\n",
       "      <td>9.0</td>\n",
       "      <td>45000</td>\n",
       "      <td>\"Mind-bending brilliance.\" / \"Confusing plot.\"</td>\n",
       "      <td>1:05:22 – Cobb’s totem scene</td>\n",
       "      <td>Social media</td>\n",
       "      <td>Reality is subjective.</td>\n",
       "      <td>80% Y</td>\n",
       "    </tr>\n",
       "  </tbody>\n",
       "</table>\n",
       "</div>"
      ],
      "text/plain": [
       "               titulo_filme          genero  ano_lancamento  avaliacao_media  \\\n",
       "0  The Pursuit of Happyness           Drama            2006              9.1   \n",
       "1        The Social Dilemma     Documentary            2020              8.2   \n",
       "2                  Parasite  Thriller/Drama            2019              9.3   \n",
       "3              Paddington 2   Comedy/Family            2017              8.8   \n",
       "4                 Inception          Sci-Fi            2010              9.0   \n",
       "\n",
       "   numero_avaliacoes                               destaques_avaliacoes  \\\n",
       "0              42000  \"Will Smith’s struggle hit hard. A must-watch!...   \n",
       "1              35000  \"Eye-opening about tech addiction.\" / \"Some cl...   \n",
       "2              50000  \"Masterpiece on class inequality.\" / \"Too dark...   \n",
       "3              28000  \"Pure joy! Teaches kindness effortlessly.\" / \"...   \n",
       "4              45000     \"Mind-bending brilliance.\" / \"Confusing plot.\"   \n",
       "\n",
       "       minuto_insight_transformador          como_descobriu  \\\n",
       "0        78:15 – Chris gets the job        Friend suggested   \n",
       "1    12:40 – Algorithm manipulation            Social media   \n",
       "2         1:12:00 – The flood scene  Netflix recommendation   \n",
       "3  33:10 – Paddington’s jail speech        Friend suggested   \n",
       "4      1:05:22 – Cobb’s totem scene            Social media   \n",
       "\n",
       "              conselho_valioso_aplicado sugerido_amigos_familia  \n",
       "0                 Persistence pays off.                   92% Y  \n",
       "1  Limit screen time for mental health.                   88% Y  \n",
       "2       Privilege isn’t always visible.                   85% Y  \n",
       "3               Always choose kindness.                   95% Y  \n",
       "4                Reality is subjective.                   80% Y  "
      ]
     },
     "execution_count": 12,
     "metadata": {},
     "output_type": "execute_result"
    }
   ],
   "source": [
    "df.head()"
   ]
  },
  {
   "cell_type": "code",
   "execution_count": null,
   "id": "2953faf1",
   "metadata": {},
   "outputs": [],
   "source": []
  }
 ],
 "metadata": {
  "kernelspec": {
   "display_name": "Python 3",
   "language": "python",
   "name": "python3"
  },
  "language_info": {
   "codemirror_mode": {
    "name": "ipython",
    "version": 3
   },
   "file_extension": ".py",
   "mimetype": "text/x-python",
   "name": "python",
   "nbconvert_exporter": "python",
   "pygments_lexer": "ipython3",
   "version": "3.9.13"
  }
 },
 "nbformat": 4,
 "nbformat_minor": 5
}
